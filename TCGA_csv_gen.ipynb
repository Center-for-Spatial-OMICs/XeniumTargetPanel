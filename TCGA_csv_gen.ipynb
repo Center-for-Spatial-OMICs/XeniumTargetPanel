{
 "cells": [
  {
   "cell_type": "code",
   "execution_count": 11,
   "metadata": {},
   "outputs": [],
   "source": [
    "import pandas as pd\n",
    "import gzip\n",
    "import os\n",
    "import matplotlib.pyplot as plt\n",
    "\n",
    "TCGA_path = './TCGA/'\n",
    "Xenium_path = './XeniumPanels/'"
   ]
  },
  {
   "cell_type": "code",
   "execution_count": 12,
   "metadata": {},
   "outputs": [],
   "source": [
    "TCGA_dir = os.listdir(TCGA_path)\n",
    "TCGA_files = [file for file in TCGA_dir if file.endswith('.tsv')]\n",
    "\n",
    "Xenium_dir = os.listdir(Xenium_path)\n",
    "Xenium_files = [file for file in Xenium_dir if file.endswith('.csv')]"
   ]
  },
  {
   "cell_type": "code",
   "execution_count": 13,
   "metadata": {},
   "outputs": [
    {
     "name": "stdout",
     "output_type": "stream",
     "text": [
      "['Xenium_hSkin_preview_metadata.csv', 'Xenium_hBrain_v1_metadata.csv', 'Xenium_hColon_preview_metadata.csv', 'Xenium_hBreast_v1_metadata.csv', 'Xenium_hLung_v1_metadata.csv', 'Xenium_hMulti_v1_metadata.csv']\n",
      "['hSkin', 'hBrain', 'hColon', 'hBreast', 'hLung', 'hMulti']\n"
     ]
    }
   ],
   "source": [
    "print(Xenium_files)\n",
    "Xenium_titles = Xenium_files.copy()\n",
    "for i in range(len(Xenium_titles)):\n",
    "    Xenium_titles[i] = Xenium_titles[i].split('_')[1]\n",
    "print(Xenium_titles)"
   ]
  },
  {
   "cell_type": "code",
   "execution_count": 14,
   "metadata": {},
   "outputs": [],
   "source": [
    "TCGA_tissue_type = ['Esophageal Carcinoma', 'Sarcoma', 'Testis Germ Cell Neoplasms', 'Kidney Adenomas and Adenocarcinomas', 'Skin Nevi and Melanomas', \n",
    "    'Phenochromocytoma and Paraganglioma', 'Brain Gliomas', 'Head and Neck Squamous Cell Carcinoma', 'Acute Myeloid Leukemia', 'Rhabdoid Tumor', 'Colon Adenocarcinoma', \n",
    "    'Liver and Intrahepatic Bile Ducts Adenomas and Adenocarcinomas', 'Pancreas', 'Uterine Corpus Endometrial Carcinoma', 'Cervix Uteri', \n",
    "    'Hematopoietic and Reticuloendothelial Systems Myeloid Leukemias', 'Kidney Complex Mixed and Stromal Neoplasms', 'Rectum Adenocarcinoma', \n",
    "    'Adrenal Gland Adenomas and Adenocarcinomas', 'Prostate Gland', 'Kidney Adenomas and Adenocarcinomas', 'Uterus, NOS Complex Mixed and Stromal Neoplasms', 'Thyroid Gland',\n",
    "    'Breast', 'Ovary', 'Stomach', 'Bronchus and Lung Squamous Cell Neoplasms', 'Brain', 'Thymoma', 'Bladder', 'Mesothelioma', 'Kidney Adenomas and Adenocarcinomas',\n",
    "    'Eyes and Adenexa Nevi and Melanomas', 'Lymphoid Neoplasm Diffuse Large B-cell Lymphoma', 'Cholangiocarcinoma', 'Bronchus and Lung']"
   ]
  },
  {
   "cell_type": "code",
   "execution_count": 15,
   "metadata": {},
   "outputs": [
    {
     "name": "stderr",
     "output_type": "stream",
     "text": [
      "/tmp/ipykernel_2950744/3481273686.py:13: SettingWithCopyWarning: \n",
      "A value is trying to be set on a copy of a slice from a DataFrame.\n",
      "Try using .loc[row_indexer,col_indexer] = value instead\n",
      "\n",
      "See the caveats in the documentation: https://pandas.pydata.org/pandas-docs/stable/user_guide/indexing.html#returning-a-view-versus-a-copy\n",
      "  df_csv[name] = 'MISSING'\n",
      "/tmp/ipykernel_2950744/3481273686.py:13: SettingWithCopyWarning: \n",
      "A value is trying to be set on a copy of a slice from a DataFrame.\n",
      "Try using .loc[row_indexer,col_indexer] = value instead\n",
      "\n",
      "See the caveats in the documentation: https://pandas.pydata.org/pandas-docs/stable/user_guide/indexing.html#returning-a-view-versus-a-copy\n",
      "  df_csv[name] = 'MISSING'\n",
      "/tmp/ipykernel_2950744/3481273686.py:13: SettingWithCopyWarning: \n",
      "A value is trying to be set on a copy of a slice from a DataFrame.\n",
      "Try using .loc[row_indexer,col_indexer] = value instead\n",
      "\n",
      "See the caveats in the documentation: https://pandas.pydata.org/pandas-docs/stable/user_guide/indexing.html#returning-a-view-versus-a-copy\n",
      "  df_csv[name] = 'MISSING'\n",
      "/tmp/ipykernel_2950744/3481273686.py:13: SettingWithCopyWarning: \n",
      "A value is trying to be set on a copy of a slice from a DataFrame.\n",
      "Try using .loc[row_indexer,col_indexer] = value instead\n",
      "\n",
      "See the caveats in the documentation: https://pandas.pydata.org/pandas-docs/stable/user_guide/indexing.html#returning-a-view-versus-a-copy\n",
      "  df_csv[name] = 'MISSING'\n",
      "/tmp/ipykernel_2950744/3481273686.py:13: SettingWithCopyWarning: \n",
      "A value is trying to be set on a copy of a slice from a DataFrame.\n",
      "Try using .loc[row_indexer,col_indexer] = value instead\n",
      "\n",
      "See the caveats in the documentation: https://pandas.pydata.org/pandas-docs/stable/user_guide/indexing.html#returning-a-view-versus-a-copy\n",
      "  df_csv[name] = 'MISSING'\n",
      "/tmp/ipykernel_2950744/3481273686.py:13: SettingWithCopyWarning: \n",
      "A value is trying to be set on a copy of a slice from a DataFrame.\n",
      "Try using .loc[row_indexer,col_indexer] = value instead\n",
      "\n",
      "See the caveats in the documentation: https://pandas.pydata.org/pandas-docs/stable/user_guide/indexing.html#returning-a-view-versus-a-copy\n",
      "  df_csv[name] = 'MISSING'\n",
      "/tmp/ipykernel_2950744/3481273686.py:13: SettingWithCopyWarning: \n",
      "A value is trying to be set on a copy of a slice from a DataFrame.\n",
      "Try using .loc[row_indexer,col_indexer] = value instead\n",
      "\n",
      "See the caveats in the documentation: https://pandas.pydata.org/pandas-docs/stable/user_guide/indexing.html#returning-a-view-versus-a-copy\n",
      "  df_csv[name] = 'MISSING'\n",
      "/tmp/ipykernel_2950744/3481273686.py:13: SettingWithCopyWarning: \n",
      "A value is trying to be set on a copy of a slice from a DataFrame.\n",
      "Try using .loc[row_indexer,col_indexer] = value instead\n",
      "\n",
      "See the caveats in the documentation: https://pandas.pydata.org/pandas-docs/stable/user_guide/indexing.html#returning-a-view-versus-a-copy\n",
      "  df_csv[name] = 'MISSING'\n",
      "/tmp/ipykernel_2950744/3481273686.py:13: SettingWithCopyWarning: \n",
      "A value is trying to be set on a copy of a slice from a DataFrame.\n",
      "Try using .loc[row_indexer,col_indexer] = value instead\n",
      "\n",
      "See the caveats in the documentation: https://pandas.pydata.org/pandas-docs/stable/user_guide/indexing.html#returning-a-view-versus-a-copy\n",
      "  df_csv[name] = 'MISSING'\n",
      "/tmp/ipykernel_2950744/3481273686.py:13: SettingWithCopyWarning: \n",
      "A value is trying to be set on a copy of a slice from a DataFrame.\n",
      "Try using .loc[row_indexer,col_indexer] = value instead\n",
      "\n",
      "See the caveats in the documentation: https://pandas.pydata.org/pandas-docs/stable/user_guide/indexing.html#returning-a-view-versus-a-copy\n",
      "  df_csv[name] = 'MISSING'\n",
      "/tmp/ipykernel_2950744/3481273686.py:13: SettingWithCopyWarning: \n",
      "A value is trying to be set on a copy of a slice from a DataFrame.\n",
      "Try using .loc[row_indexer,col_indexer] = value instead\n",
      "\n",
      "See the caveats in the documentation: https://pandas.pydata.org/pandas-docs/stable/user_guide/indexing.html#returning-a-view-versus-a-copy\n",
      "  df_csv[name] = 'MISSING'\n",
      "/tmp/ipykernel_2950744/3481273686.py:13: SettingWithCopyWarning: \n",
      "A value is trying to be set on a copy of a slice from a DataFrame.\n",
      "Try using .loc[row_indexer,col_indexer] = value instead\n",
      "\n",
      "See the caveats in the documentation: https://pandas.pydata.org/pandas-docs/stable/user_guide/indexing.html#returning-a-view-versus-a-copy\n",
      "  df_csv[name] = 'MISSING'\n",
      "/tmp/ipykernel_2950744/3481273686.py:13: SettingWithCopyWarning: \n",
      "A value is trying to be set on a copy of a slice from a DataFrame.\n",
      "Try using .loc[row_indexer,col_indexer] = value instead\n",
      "\n",
      "See the caveats in the documentation: https://pandas.pydata.org/pandas-docs/stable/user_guide/indexing.html#returning-a-view-versus-a-copy\n",
      "  df_csv[name] = 'MISSING'\n",
      "/tmp/ipykernel_2950744/3481273686.py:13: SettingWithCopyWarning: \n",
      "A value is trying to be set on a copy of a slice from a DataFrame.\n",
      "Try using .loc[row_indexer,col_indexer] = value instead\n",
      "\n",
      "See the caveats in the documentation: https://pandas.pydata.org/pandas-docs/stable/user_guide/indexing.html#returning-a-view-versus-a-copy\n",
      "  df_csv[name] = 'MISSING'\n"
     ]
    }
   ],
   "source": [
    "for x in range(len(Xenium_files)):\n",
    "    \n",
    "    gene_list_path = Xenium_path+Xenium_files[x]\n",
    "    df_genes = pd.read_csv(gene_list_path)\n",
    "\n",
    "    TCGA_names = TCGA_files.copy()\n",
    "    for i in range(len(TCGA_names)):\n",
    "        TCGA_names[i] = TCGA_names[i].replace('.tsv', '')\n",
    "\n",
    "    df_csv = df_genes[['Ensembl_ID', 'Gene']]\n",
    "    df_csv.set_index('Ensembl_ID', inplace=True)\n",
    "    for name in TCGA_tissue_type:\n",
    "        df_csv[name] = 'MISSING'\n",
    "            \n",
    "    for t in range(len(TCGA_files)):\n",
    "\n",
    "        df = pd.read_csv(TCGA_path+TCGA_files[t], sep='\\t', skiprows=[0])\n",
    "        df = df[df['gene_id'].str.startswith('ENSG')]\n",
    "        df.reset_index(drop=True, inplace=True)\n",
    "\n",
    "        ensemble_ids = df_genes['Ensembl_ID'].unique()\n",
    "        df['gene_id'] = df['gene_id'].str.split('.').str[0]\n",
    "        filtered_df = df[df['gene_id'].isin(ensemble_ids)]\n",
    "        filtered_df.set_index('gene_id', inplace=True)\n",
    "        filtered_df = filtered_df.groupby('gene_id').sum()\n",
    "        \n",
    "        averages = filtered_df['tpm_unstranded']\n",
    "\n",
    "        for index, row in df_csv.iterrows():\n",
    "            if index in averages.index:\n",
    "                # if averages[index] > 1:\n",
    "                #     df_csv.at[index, TCGA_tissue_type[t]] = True\n",
    "                # else:\n",
    "                #     df_csv.at[index, TCGA_tissue_type[t]] = False\n",
    "                df_csv.at[index, TCGA_tissue_type[t]] = averages[index]\n",
    "    \n",
    "    df_csv.to_csv('./TCGA_'+Xenium_titles[x]+'_count.csv', index=True)\n"
   ]
  }
 ],
 "metadata": {
  "kernelspec": {
   "display_name": "pydeseq2",
   "language": "python",
   "name": "python3"
  },
  "language_info": {
   "codemirror_mode": {
    "name": "ipython",
    "version": 3
   },
   "file_extension": ".py",
   "mimetype": "text/x-python",
   "name": "python",
   "nbconvert_exporter": "python",
   "pygments_lexer": "ipython3",
   "version": "3.12.2"
  }
 },
 "nbformat": 4,
 "nbformat_minor": 2
}
