{
 "cells": [
  {
   "cell_type": "code",
   "execution_count": 1,
   "metadata": {},
   "outputs": [],
   "source": [
    "import pandas as pd\n",
    "import gzip\n",
    "import os\n",
    "import matplotlib.pyplot as plt\n",
    "\n",
    "GTEX_path = './GTEX/'\n",
    "Xenium_path = './XeniumPanels/'"
   ]
  },
  {
   "cell_type": "code",
   "execution_count": 2,
   "metadata": {},
   "outputs": [],
   "source": [
    "GTEX_dir = os.listdir(GTEX_path)\n",
    "GTEX_files = [file for file in GTEX_dir if file.endswith('.gct.gz')]\n",
    "Xenium_dir = os.listdir(Xenium_path)\n",
    "Xenium_files = [file for file in Xenium_dir if file.endswith('.csv')]"
   ]
  },
  {
   "cell_type": "code",
   "execution_count": 3,
   "metadata": {},
   "outputs": [
    {
     "name": "stdout",
     "output_type": "stream",
     "text": [
      "['Xenium_hSkin_preview_metadata.csv', 'Xenium_hBrain_v1_metadata.csv', 'Xenium_hColon_preview_metadata.csv', 'Xenium_hBreast_v1_metadata.csv', 'Xenium_hLung_v1_metadata.csv', 'Xenium_hMulti_v1_metadata.csv']\n",
      "['hSkin', 'hBrain', 'hColon', 'hBreast', 'hLung', 'hMulti']\n"
     ]
    }
   ],
   "source": [
    "print(Xenium_files)\n",
    "Xenium_titles = Xenium_files.copy()\n",
    "for i in range(len(Xenium_titles)):\n",
    "    Xenium_titles[i] = Xenium_titles[i].split('_')[1]\n",
    "print(Xenium_titles)"
   ]
  },
  {
   "cell_type": "code",
   "execution_count": 12,
   "metadata": {},
   "outputs": [
    {
     "name": "stdout",
     "output_type": "stream",
     "text": [
      "hSkin\n",
      "260\n",
      "hBrain\n",
      "265\n",
      "hColon\n",
      "322\n",
      "hBreast\n",
      "281\n",
      "hLung\n",
      "289\n",
      "hMulti\n",
      "378\n"
     ]
    }
   ],
   "source": [
    "for x in range(len(Xenium_files)):\n",
    "    tissue_series_list = []\n",
    "    print(Xenium_titles[x])\n",
    "    \n",
    "    gene_list_path = Xenium_path+Xenium_files[x]\n",
    "    df_genes = pd.read_csv(gene_list_path)\n",
    "            \n",
    "    for g in GTEX_files:\n",
    "\n",
    "        # open and read the gzipped file\n",
    "        with gzip.open(GTEX_path+g, 'rt') as file:\n",
    "            # skip the first 2 rows (header information) and read the data into a DataFrame\n",
    "            df = pd.read_csv(file, sep='\\t', skiprows=2, index_col=0)\n",
    "\n",
    "        ensemble_ids = df_genes['Ensembl_ID'].unique()\n",
    "        df['Name'] = df['Name'].str.split('.').str[0]\n",
    "        filtered_df = df[df['Name'].isin(ensemble_ids)]\n",
    "\n",
    "        filtered_df.set_index('Name', inplace=True)\n",
    "\n",
    "        columns_to_average = filtered_df.columns.difference(['Description'])\n",
    "        tissue_series_list.append(filtered_df[columns_to_average].mean(axis=1))\n",
    "    \n",
    "    # df_plot = pd.concat(tissue_series_list, axis=1)\n",
    "    # df_plot.columns = GTEX_files\n",
    "    # print(df_plot)\n",
    "    GTEX_names = GTEX_files.copy()\n",
    "    for i in range(len(GTEX_names)):\n",
    "        GTEX_names[i] = '_'.join(GTEX_names[i].split('_')[4:]).replace('.gct.gz', '')\n",
    "    # print(GTEX_names)\n",
    "\n",
    "    # plt.figure(figsize=(20, 6))\n",
    "    # box = df_plot.boxplot(flierprops=dict(markersize=3), grid=False)\n",
    "    # box.set_xticklabels(GTEX_names, rotation=45, ha='right')\n",
    "    # plt.ylabel('Log Scaled Expression Level')\n",
    "    # plt.yscale('log')\n",
    "    # plt.title('GTEX-Xenium ' + Xenium_titles[x] + ' Panel Box Plot')\n",
    "    # plt.axhline(y=10, color='r', linestyle='--')\n",
    "    # plt.axhline(y=1, color='b', linestyle=':') \n",
    "    # plt.show()"
   ]
  },
  {
   "cell_type": "code",
   "execution_count": 31,
   "metadata": {},
   "outputs": [
    {
     "name": "stdout",
     "output_type": "stream",
     "text": [
      "                   Gene thyroid brain_caudate_basal_ganglia brain_amygdala  \\\n",
      "Ensembl_ID                                                                   \n",
      "ENSG00000121270  ABCC11    None                        None           None   \n",
      "ENSG00000130234    ACE2    None                        None           None   \n",
      "ENSG00000213088   ACKR1    None                        None           None   \n",
      "ENSG00000107796   ACTA2    None                        None           None   \n",
      "ENSG00000163017   ACTG2    None                        None           None   \n",
      "...                 ...     ...                         ...            ...   \n",
      "ENSG00000243566   UPK3B    None                        None           None   \n",
      "ENSG00000038427    VCAN    None                        None           None   \n",
      "ENSG00000155659   VSIG4    None                        None           None   \n",
      "ENSG00000110002   VWA5A    None                        None           None   \n",
      "ENSG00000110799     VWF    None                        None           None   \n",
      "\n",
      "                minor_salivary_gland brain_hypothalamus  \\\n",
      "Ensembl_ID                                                \n",
      "ENSG00000121270                 None               None   \n",
      "ENSG00000130234                 None               None   \n",
      "ENSG00000213088                 None               None   \n",
      "ENSG00000107796                 None               None   \n",
      "ENSG00000163017                 None               None   \n",
      "...                              ...                ...   \n",
      "ENSG00000243566                 None               None   \n",
      "ENSG00000038427                 None               None   \n",
      "ENSG00000155659                 None               None   \n",
      "ENSG00000110002                 None               None   \n",
      "ENSG00000110799                 None               None   \n",
      "\n",
      "                esophagus_gastroesophageal_junction artery_tibial  \\\n",
      "Ensembl_ID                                                          \n",
      "ENSG00000121270                                None          None   \n",
      "ENSG00000130234                                None          None   \n",
      "ENSG00000213088                                None          None   \n",
      "ENSG00000107796                                None          None   \n",
      "ENSG00000163017                                None          None   \n",
      "...                                             ...           ...   \n",
      "ENSG00000243566                                None          None   \n",
      "ENSG00000038427                                None          None   \n",
      "ENSG00000155659                                None          None   \n",
      "ENSG00000110002                                None          None   \n",
      "ENSG00000110799                                None          None   \n",
      "\n",
      "                brain_spinal_cord_cervical_c-1 colon_transverse  ...  \\\n",
      "Ensembl_ID                                                       ...   \n",
      "ENSG00000121270                           None             None  ...   \n",
      "ENSG00000130234                           None             None  ...   \n",
      "ENSG00000213088                           None             None  ...   \n",
      "ENSG00000107796                           None             None  ...   \n",
      "ENSG00000163017                           None             None  ...   \n",
      "...                                        ...              ...  ...   \n",
      "ENSG00000243566                           None             None  ...   \n",
      "ENSG00000038427                           None             None  ...   \n",
      "ENSG00000155659                           None             None  ...   \n",
      "ENSG00000110002                           None             None  ...   \n",
      "ENSG00000110799                           None             None  ...   \n",
      "\n",
      "                nerve_tibial brain_frontal_cortex_ba9 esophagus_muscularis  \\\n",
      "Ensembl_ID                                                                   \n",
      "ENSG00000121270         None                     None                 None   \n",
      "ENSG00000130234         None                     None                 None   \n",
      "ENSG00000213088         None                     None                 None   \n",
      "ENSG00000107796         None                     None                 None   \n",
      "ENSG00000163017         None                     None                 None   \n",
      "...                      ...                      ...                  ...   \n",
      "ENSG00000243566         None                     None                 None   \n",
      "ENSG00000038427         None                     None                 None   \n",
      "ENSG00000155659         None                     None                 None   \n",
      "ENSG00000110002         None                     None                 None   \n",
      "ENSG00000110799         None                     None                 None   \n",
      "\n",
      "                testis pancreas brain_nucleus_accumbens_basal_ganglia ovary  \\\n",
      "Ensembl_ID                                                                    \n",
      "ENSG00000121270   None     None                                  None  None   \n",
      "ENSG00000130234   None     None                                  None  None   \n",
      "ENSG00000213088   None     None                                  None  None   \n",
      "ENSG00000107796   None     None                                  None  None   \n",
      "ENSG00000163017   None     None                                  None  None   \n",
      "...                ...      ...                                   ...   ...   \n",
      "ENSG00000243566   None     None                                  None  None   \n",
      "ENSG00000038427   None     None                                  None  None   \n",
      "ENSG00000155659   None     None                                  None  None   \n",
      "ENSG00000110002   None     None                                  None  None   \n",
      "ENSG00000110799   None     None                                  None  None   \n",
      "\n",
      "                spleen prostate adipose_visceral_omentum  \n",
      "Ensembl_ID                                                \n",
      "ENSG00000121270   None     None                     None  \n",
      "ENSG00000130234   None     None                     None  \n",
      "ENSG00000213088   None     None                     None  \n",
      "ENSG00000107796   None     None                     None  \n",
      "ENSG00000163017   None     None                     None  \n",
      "...                ...      ...                      ...  \n",
      "ENSG00000243566   None     None                     None  \n",
      "ENSG00000038427   None     None                     None  \n",
      "ENSG00000155659   None     None                     None  \n",
      "ENSG00000110002   None     None                     None  \n",
      "ENSG00000110799   None     None                     None  \n",
      "\n",
      "[377 rows x 55 columns]\n",
      "None\n"
     ]
    },
    {
     "name": "stderr",
     "output_type": "stream",
     "text": [
      "/tmp/ipykernel_2804650/1149195582.py:4: SettingWithCopyWarning: \n",
      "A value is trying to be set on a copy of a slice from a DataFrame.\n",
      "Try using .loc[row_indexer,col_indexer] = value instead\n",
      "\n",
      "See the caveats in the documentation: https://pandas.pydata.org/pandas-docs/stable/user_guide/indexing.html#returning-a-view-versus-a-copy\n",
      "  df_csv[name] = None\n",
      "/tmp/ipykernel_2804650/1149195582.py:4: SettingWithCopyWarning: \n",
      "A value is trying to be set on a copy of a slice from a DataFrame.\n",
      "Try using .loc[row_indexer,col_indexer] = value instead\n",
      "\n",
      "See the caveats in the documentation: https://pandas.pydata.org/pandas-docs/stable/user_guide/indexing.html#returning-a-view-versus-a-copy\n",
      "  df_csv[name] = None\n",
      "/tmp/ipykernel_2804650/1149195582.py:4: SettingWithCopyWarning: \n",
      "A value is trying to be set on a copy of a slice from a DataFrame.\n",
      "Try using .loc[row_indexer,col_indexer] = value instead\n",
      "\n",
      "See the caveats in the documentation: https://pandas.pydata.org/pandas-docs/stable/user_guide/indexing.html#returning-a-view-versus-a-copy\n",
      "  df_csv[name] = None\n"
     ]
    }
   ],
   "source": [
    "df_csv = df_genes[['Ensembl_ID', 'Gene']]\n",
    "df_csv.set_index('Ensembl_ID', inplace=True)\n",
    "for name in GTEX_names:\n",
    "    df_csv[name] = None\n",
    "\n",
    "print(df_csv)\n",
    "\n",
    "print(df_csv.at['ENSG00000121270', 'thyroid'])"
   ]
  },
  {
   "cell_type": "code",
   "execution_count": 34,
   "metadata": {},
   "outputs": [
    {
     "name": "stdout",
     "output_type": "stream",
     "text": [
      "Name\n",
      "ENSG00000188290    26.399315\n",
      "ENSG00000049249     0.164836\n",
      "ENSG00000162493     9.542253\n",
      "ENSG00000142973    36.674208\n",
      "ENSG00000162595     5.088309\n",
      "                     ...    \n",
      "ENSG00000155659    21.954740\n",
      "ENSG00000169083     4.727444\n",
      "ENSG00000147257    46.542922\n",
      "ENSG00000198223     0.000000\n",
      "ENSG00000185291     0.000000\n",
      "Length: 378, dtype: float64\n"
     ]
    }
   ],
   "source": [
    "print(tissue_series_list[0])"
   ]
  }
 ],
 "metadata": {
  "kernelspec": {
   "display_name": "pydeseq2",
   "language": "python",
   "name": "python3"
  },
  "language_info": {
   "codemirror_mode": {
    "name": "ipython",
    "version": 3
   },
   "file_extension": ".py",
   "mimetype": "text/x-python",
   "name": "python",
   "nbconvert_exporter": "python",
   "pygments_lexer": "ipython3",
   "version": "3.12.2"
  }
 },
 "nbformat": 4,
 "nbformat_minor": 2
}
